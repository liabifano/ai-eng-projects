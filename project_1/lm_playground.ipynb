{
  "cells": [
    {
      "cell_type": "markdown",
      "id": "fe523821",
      "metadata": {
        "id": "fe523821"
      },
      "source": [
        "\n",
        "# Project 1: Build an LLM Playground\n",
        "\n",
        "Welcome! In this project, you’ll learn foundations of large language models (LLMs). We’ll keep the code minimal and the explanations high‑level so that anyone who can run a Python cell can follow along.  \n",
        "\n",
        "We'll be using Google Colab for this project. Colab is a free, browser-based platform that lets you run Python code and machine learning models without installing anything on your local computer. Click the button below to open this notebook directly in Google Colab and get started!\n"
      ]
    },
    {
      "cell_type": "markdown",
      "id": "fdb8584e",
      "metadata": {
        "id": "fdb8584e"
      },
      "source": [
        "[![Open In Colab](https://colab.research.google.com/assets/colab-badge.svg)](https://colab.research.google.com/github/bytebyteai/ai-eng-projects/blob/main/project_1/lm_playground.ipynb)"
      ]
    },
    {
      "cell_type": "markdown",
      "id": "08e82492",
      "metadata": {
        "id": "08e82492"
      },
      "source": [
        "---\n",
        "## Learning Objectives  \n",
        "* **Tokenization** and how raw text is tokenized into a sequene of discrete tokens\n",
        "* Inspect **GPT2** and **Transformer architecture**\n",
        "* Loading pre-trained LLMs using **Hugging Face**\n",
        "* **Decoding strategies** to generate text from LLMs\n",
        "* Completion versus **intrusction fine-tuned** LLMs\n",
        "\n",
        "\n",
        "Let's get started!"
      ]
    },
    {
      "cell_type": "code",
      "execution_count": 1,
      "id": "1235110e",
      "metadata": {
        "colab": {
          "base_uri": "https://localhost:8080/"
        },
        "id": "1235110e",
        "outputId": "bb96ddde-82b2-4629-a3bc-a06edc1238a2"
      },
      "outputs": [
        {
          "output_type": "stream",
          "name": "stdout",
          "text": [
            "torch 2.8.0+cu126 | transformers 4.56.2\n"
          ]
        }
      ],
      "source": [
        "import torch, transformers, tiktoken\n",
        "print(\"torch\", torch.__version__, \"| transformers\", transformers.__version__)"
      ]
    },
    {
      "cell_type": "markdown",
      "id": "d4c1eb0b",
      "metadata": {
        "id": "d4c1eb0b"
      },
      "source": [
        "# 1 - Tokenization\n",
        "\n",
        "A neural network can’t digest raw text. They need **numbers**. Tokenization is the process of converting text into IDs. In this section, you'll learn how tokenization is implemented in practice.\n",
        "\n",
        "Tokenization methods generally fall into three categories:\n",
        "1. Word-level\n",
        "2. Character-level\n",
        "3. Subword-level"
      ]
    },
    {
      "cell_type": "markdown",
      "id": "1d234dc0",
      "metadata": {
        "id": "1d234dc0"
      },
      "source": [
        "### 1.1 - Word‑level tokenization\n",
        "\n",
        "Split text on whitespace and store each **word** as a token."
      ]
    },
    {
      "cell_type": "code",
      "source": [
        "corpus = [\n",
        "    \"The quick brown fox jumps over the lazy dog\",\n",
        "    \"Tokenization converts text to numbers\",\n",
        "    \"Large language models predict the next token\"\n",
        "]\n",
        "\n",
        "\n",
        "vocab = [t.lower() for t in list(set([c for sentence in [c.split(\" \") for c in corpus] for c in sentence]))]\n",
        "\n",
        "dict(zip(vocab, list(range(len(vocab)))))\n",
        "dict(zip(list(range(len(vocab))), vocab))"
      ],
      "metadata": {
        "colab": {
          "base_uri": "https://localhost:8080/"
        },
        "id": "uovD9dx-dzKB",
        "outputId": "702a2862-b43e-44ac-86f2-f913bb2784ea"
      },
      "id": "uovD9dx-dzKB",
      "execution_count": 23,
      "outputs": [
        {
          "output_type": "execute_result",
          "data": {
            "text/plain": [
              "{0: 'tokenization',\n",
              " 1: 'brown',\n",
              " 2: 'quick',\n",
              " 3: 'token',\n",
              " 4: 'fox',\n",
              " 5: 'dog',\n",
              " 6: 'to',\n",
              " 7: 'predict',\n",
              " 8: 'converts',\n",
              " 9: 'the',\n",
              " 10: 'jumps',\n",
              " 11: 'models',\n",
              " 12: 'large',\n",
              " 13: 'numbers',\n",
              " 14: 'over',\n",
              " 15: 'next',\n",
              " 16: 'lazy',\n",
              " 17: 'text',\n",
              " 18: 'language',\n",
              " 19: 'the'}"
            ]
          },
          "metadata": {},
          "execution_count": 23
        }
      ]
    },
    {
      "cell_type": "code",
      "execution_count": 40,
      "id": "d784a288",
      "metadata": {
        "colab": {
          "base_uri": "https://localhost:8080/"
        },
        "id": "d784a288",
        "outputId": "9b16036d-2733-4ada-80dc-97fa9efea2f9"
      },
      "outputs": [
        {
          "output_type": "stream",
          "name": "stdout",
          "text": [
            "Vocabulary size: 22 words\n",
            "First 15 vocab entries: ['Tokenization', 'brown', '[PAD]', 'quick', 'token', 'fox', 'dog', 'to', 'predict', 'converts', 'the', 'jumps', 'models', 'Large', 'numbers']\n",
            "\n",
            "Input text : The brown unicorn jumps\n",
            "Token IDs  : [21, 1, 18, 11]\n",
            "Decoded    : The brown [UNK] jumps\n"
          ]
        }
      ],
      "source": [
        "# 1. Tiny corpus\n",
        "corpus = [\n",
        "    \"The quick brown fox jumps over the lazy dog\",\n",
        "    \"Tokenization converts text to numbers\",\n",
        "    \"Large language models predict the next token\"\n",
        "]\n",
        "\n",
        "# 2. Build the vocabulary\n",
        "PAD, UNK = \"[PAD]\", \"[UNK]\"\n",
        "vocab = [t for t in list(set([c for sentence in [c.split(\" \") for c in [f\"{k} {PAD}\" for k in corpus]] for c in sentence] + [UNK]))]\n",
        "word2id = dict(zip(vocab, list(range(len(vocab)))))\n",
        "id2word = dict(zip(list(range(len(vocab))), vocab))\n",
        "\n",
        "print(f\"Vocabulary size: {len(vocab)} words\")\n",
        "print(\"First 15 vocab entries:\", vocab[:15])\n",
        "\n",
        "# 3. Encode / decode\n",
        "def encode(text):\n",
        "    return [word2id.get(t, word2id[UNK]) for t in text.split(\" \")]\n",
        "\n",
        "\n",
        "def decode(ids):\n",
        "    return \" \".join([id2word[id] for id in ids])\n",
        "\n",
        "# 4. Demo\n",
        "sample = \"The brown unicorn jumps\"\n",
        "ids = encode(sample)\n",
        "recovered = decode(ids)\n",
        "\n",
        "print(\"\\nInput text :\", sample)\n",
        "print(\"Token IDs  :\", ids)\n",
        "print(\"Decoded    :\", recovered)"
      ]
    },
    {
      "cell_type": "markdown",
      "id": "0edab2c2",
      "metadata": {
        "id": "0edab2c2"
      },
      "source": [
        "Word-level tokenization has two major limitations:\n",
        "1. Large vocabulary size\n",
        "2. Out-of-vocabulary (OOV) issue"
      ]
    },
    {
      "cell_type": "markdown",
      "id": "a379bac7",
      "metadata": {
        "id": "a379bac7"
      },
      "source": [
        "### 1.2 - Character‑level tokenization\n",
        "\n",
        "Every single character (including spaces and emojis) gets its own ID. This guarantees zero out‑of‑vocabulary issues but very long sequences."
      ]
    },
    {
      "cell_type": "code",
      "execution_count": 49,
      "id": "4ac29144",
      "metadata": {
        "colab": {
          "base_uri": "https://localhost:8080/"
        },
        "id": "4ac29144",
        "outputId": "89dcd15c-0bb7-4b49-f6bd-76758a664be8"
      },
      "outputs": [
        {
          "output_type": "stream",
          "name": "stdout",
          "text": [
            "Vocabulary size: 55 (52 letters + 2 specials)\n",
            "\n",
            "Input text : Hello\n",
            "Token IDs  : [7, 30, 37, 37, 40]\n",
            "Decoded    : Hello\n"
          ]
        }
      ],
      "source": [
        "# 1. Build a fixed vocabulary # a–z + A–Z + padding + unkwown\n",
        "import string\n",
        "\n",
        "PAD, UNK, SPACE = \"[PAD]\", \"[UNK]\", \" \"\n",
        "vocab = [x for x in string.ascii_uppercase] + [x for x in string.ascii_lowercase] + [PAD, UNK, SPACE]\n",
        "char2id = dict(zip(vocab, list(range(len(vocab)))))\n",
        "id2char = dict(zip(list(range(len(vocab))), vocab))\n",
        "\n",
        "print(f\"Vocabulary size: {len(vocab)} (52 letters + 2 specials)\")\n",
        "\n",
        "# 2. Encode / decode\n",
        "def encode(text):\n",
        "    return [char2id.get(t, word2id[UNK]) for t in text]\n",
        "\n",
        "\n",
        "def decode(ids):\n",
        "    return \"\".join([id2char[id] for id in ids])\n",
        "\n",
        "# 3. Demo\n",
        "sample = \"Hello\"\n",
        "ids = encode(sample)\n",
        "recovered = decode(ids)\n",
        "\n",
        "print(\"\\nInput text :\", sample)\n",
        "print(\"Token IDs  :\", ids)\n",
        "print(\"Decoded    :\", recovered)\n"
      ]
    },
    {
      "cell_type": "markdown",
      "id": "391275bd",
      "metadata": {
        "id": "391275bd"
      },
      "source": [
        "### 1.3 - Subword‑level tokenization\n",
        "\n",
        "Sub-word methods such as `Byte-Pair Encoding (BPE)`, `WordPiece`, and `SentencePiece` **learn** the most common character and gorup them into new tokens. For example, the word `unbelievable` might turn into three tokens: `[\"un\", \"believ\", \"able\"]`. This approach strikes a balance between word-level and character-level methods and fix their limitations.\n",
        "\n",
        "For example, `BPE` algorithm forms the vocabulary using the following steps:\n",
        "1. **Start with bytes** → every character is its own token.  \n",
        "2. **Count all adjacent pairs** in a huge corpus.  \n",
        "3. **Merge the most frequent pair** into a new token.  \n",
        "   *Repeat steps 2-3* until you hit the target vocab size (e.g., 50 k).\n",
        "\n",
        "Let's see `BPE` in practice."
      ]
    },
    {
      "cell_type": "code",
      "execution_count": 11,
      "id": "4675e67a",
      "metadata": {
        "colab": {
          "base_uri": "https://localhost:8080/",
          "height": 262,
          "referenced_widgets": [
            "d967259dee44405abae0124f845bb6cf",
            "894d708487814875a09df5b19c2a3d4c",
            "99d31a74e24d4a8c819b14d6c4ccca38",
            "73c96257d804490eafaafbdfe15fceb4",
            "20983cdab623426da5d8a2b62fc41661",
            "6f178d091aac446ba3adcd6e287cff09",
            "eeeeaaf21be24abc8b597580ecfada2d",
            "eb0905c0c86f408eb34741e5a5530ed6",
            "8477f562417f4833bd54de735ebc8ab6",
            "dcf312e34a184778b1d2211b77f567b1",
            "3396be44b8254e96a0b79ba0a5d49653",
            "550fa8b277aa44958bb1632ad6b608b7",
            "5fa19cc996c64cc19cc67367d40feda9",
            "43fc6f64f8d849ab8beee91a7134c864",
            "21ab30077d89460eb53d0f1c721026dc",
            "2f2451e3e4bb48a184107cde89a675d0",
            "bfdff53228fa4b0b8642ee8105fa50d8",
            "91f5696392e547c7a49f3a6442bb07c2",
            "4ca100602d7d4356b4602b33d5cb78e6",
            "351cee75273047c791c86a53b93e1585",
            "f9c5082f60d1409290fbee4774a646d4",
            "d5f83b9c7abc40d1be61bcc3a4a29711",
            "3f258729d10144fb87c3e9b7b911a8ac",
            "05a2529786a04618901b22eda85cc67d",
            "cf6a1e0d796f4fa2a626b4eb37e9644c",
            "28505df08b654c37a174f7c157350e4e",
            "932664352f3242c386b87aa01c85b791",
            "b4b975851c6f4a92bc748cb4135c4472",
            "af59f7cd296a40e182a4d3cf071c6589",
            "cdf09421c9a441aab38263265e70e01a",
            "c9b75671baaf4bc8944a9985c653c325",
            "3c69b4aea0484d4eb74e97bc86a4ae20",
            "d02f347cefb649119f7f0d717a7460ef",
            "8c1db810e4ae45889b1dbd55d132d28a",
            "f9a8ea41757f4cc99fe82798b146d006",
            "90ddd0b877d54f24ba1c48d374e2d99c",
            "e4d4c64340dc4dcfaaee400f273a8c45",
            "81be1debce6743b2956250f68db6e66c",
            "06c5a127f13a4aa8803f2cec402b3cd0",
            "0c96c6ec82884af087701f3670b5a19a",
            "6a294977dc024610bc1bb021c963b595",
            "553274c087cd43b3ad9cf62a1fa4db5a",
            "5bdbb1a350b146d6affcbe8c7a71b878",
            "638364c005e74524ae24f1bce89863a3",
            "44825340aec54f2d844c7a3705ad523c",
            "ab81204a0baf409095352a93437f145c",
            "e60a727c68fc4e889c6e7a4e5d14fa30",
            "df8835c74caa4bef9284619d66a66c4c",
            "86cf543701fe446e8767e0022fc84e85",
            "50e6241069d544c695a5ccf4e840e9dc",
            "b20f9399a50c4c1fb14875b168043d7b",
            "e2fd17d4ec95482ca40fd5bb0e047470",
            "40a1b40e53bc41c3b506f1d0056ef3dc",
            "affb65693b7e4f3d833e79038c1aaadf",
            "3de11f825785419e854747f51e6f4611"
          ]
        },
        "id": "4675e67a",
        "outputId": "81fdecc7-1e96-4681-f984-21482480d7cb"
      },
      "outputs": [
        {
          "output_type": "display_data",
          "data": {
            "text/plain": [
              "tokenizer_config.json:   0%|          | 0.00/26.0 [00:00<?, ?B/s]"
            ],
            "application/vnd.jupyter.widget-view+json": {
              "version_major": 2,
              "version_minor": 0,
              "model_id": "d967259dee44405abae0124f845bb6cf"
            }
          },
          "metadata": {}
        },
        {
          "output_type": "display_data",
          "data": {
            "text/plain": [
              "config.json:   0%|          | 0.00/665 [00:00<?, ?B/s]"
            ],
            "application/vnd.jupyter.widget-view+json": {
              "version_major": 2,
              "version_minor": 0,
              "model_id": "550fa8b277aa44958bb1632ad6b608b7"
            }
          },
          "metadata": {}
        },
        {
          "output_type": "display_data",
          "data": {
            "text/plain": [
              "vocab.json:   0%|          | 0.00/1.04M [00:00<?, ?B/s]"
            ],
            "application/vnd.jupyter.widget-view+json": {
              "version_major": 2,
              "version_minor": 0,
              "model_id": "3f258729d10144fb87c3e9b7b911a8ac"
            }
          },
          "metadata": {}
        },
        {
          "output_type": "display_data",
          "data": {
            "text/plain": [
              "merges.txt:   0%|          | 0.00/456k [00:00<?, ?B/s]"
            ],
            "application/vnd.jupyter.widget-view+json": {
              "version_major": 2,
              "version_minor": 0,
              "model_id": "8c1db810e4ae45889b1dbd55d132d28a"
            }
          },
          "metadata": {}
        },
        {
          "output_type": "display_data",
          "data": {
            "text/plain": [
              "tokenizer.json:   0%|          | 0.00/1.36M [00:00<?, ?B/s]"
            ],
            "application/vnd.jupyter.widget-view+json": {
              "version_major": 2,
              "version_minor": 0,
              "model_id": "44825340aec54f2d844c7a3705ad523c"
            }
          },
          "metadata": {}
        },
        {
          "output_type": "stream",
          "name": "stdout",
          "text": [
            "\n",
            "Input text : Unbelievable tokenization powers! 🚀\n",
            "Token IDs  : [3118, 6667, 11203, 540, 11241, 1634, 5635, 0, 12520, 248, 222]\n",
            "Tokens     : ['Un', 'bel', 'iev', 'able', 'Ġtoken', 'ization', 'Ġpowers', '!', 'ĠðŁ', 'ļ', 'Ģ']\n",
            "Decoded    : Unbelievable tokenization powers! 🚀\n"
          ]
        }
      ],
      "source": [
        "# 1. Load a pretrained BPE tokenizer (GPT-2 uses BPE).\n",
        "# Refer to  https://huggingface.co/docs/transformers/en/fast_tokenizers\n",
        "\n",
        "from transformers import AutoTokenizer\n",
        "\n",
        "tokenizer = AutoTokenizer.from_pretrained(\"gpt2\")\n",
        "\n",
        "# 2. Encode / decode\n",
        "def encode(text):\n",
        "    return tokenizer(text)[\"input_ids\"]\n",
        "\n",
        "def decode(ids):\n",
        "    return tokenizer.decode(ids)\n",
        "\n",
        "# 3. Demo\n",
        "sample = \"Unbelievable tokenization powers! 🚀\"\n",
        "ids = encode(sample)\n",
        "recovered = decode(ids)\n",
        "\n",
        "print(\"\\nInput text :\", sample)\n",
        "print(\"Token IDs  :\", ids)\n",
        "print(\"Tokens     :\", tokenizer.convert_ids_to_tokens(ids))\n",
        "print(\"Decoded    :\", recovered)\n"
      ]
    },
    {
      "cell_type": "markdown",
      "id": "badaa5a8",
      "metadata": {
        "id": "badaa5a8"
      },
      "source": [
        "### 1.4 - TikToken\n",
        "\n",
        "`tiktoken` is a production-ready library which offers high‑speed tokenization used by OpenAI models.  \n",
        "Let's compare the older **gpt2** encoding with the newer **cl100k_base** used in GPT‑4."
      ]
    },
    {
      "cell_type": "code",
      "execution_count": 73,
      "id": "7704c470",
      "metadata": {
        "colab": {
          "base_uri": "https://localhost:8080/"
        },
        "id": "7704c470",
        "outputId": "9590aad7-fb51-4562-cfca-6dd3872c1e5c"
      },
      "outputs": [
        {
          "output_type": "stream",
          "name": "stdout",
          "text": [
            "The 🌟 star-player scored 40 points!\n",
            "The 🌟 star-player scored 40 points!\n"
          ]
        }
      ],
      "source": [
        "# Use gpt2 and cl100k_base to encode and decode the following text\n",
        "# Refer to https://github.com/openai/tiktoken\n",
        "import tiktoken\n",
        "\n",
        "sentence = \"The 🌟 star-player scored 40 points!\"\n",
        "\n",
        "enc = tiktoken.get_encoding(\"cl100k_base\")\n",
        "print(enc.decode(enc.encode(sentence)))\n",
        "\n",
        "sample = sentence\n",
        "ids = encode(sample)\n",
        "recovered = decode(ids)\n",
        "\n",
        "print(recovered)\n"
      ]
    },
    {
      "cell_type": "markdown",
      "id": "5e8c1023",
      "metadata": {
        "id": "5e8c1023"
      },
      "source": [
        "Experiment: try new sentences, emojis, code snippets, or other languages. If you are interested, try implementing the BPE algorithm yourself.\n",
        "\n",
        "### 1.5 - Key Takeaways\n",
        "\n",
        "* **Word‑level**: simple but brittle (OOV problems).  \n",
        "* **Character‑level**: robust but produces long sequences.  \n",
        "* **BPE / Byte‑Level BPE**: middle ground used by most LLMs.  \n",
        "* **tiktoken**: shows how production models tokenize with pre‑trained sub‑word vocabularies."
      ]
    },
    {
      "cell_type": "markdown",
      "id": "c2a758ba",
      "metadata": {
        "id": "c2a758ba"
      },
      "source": [
        "# 2. What is a Language Model?\n",
        "\n",
        "At its core, a **language model (LM)** is just a *very large* mathematical function built from many neural-network layers.  \n",
        "Given a sequence of tokens `[t₁, t₂, …, tₙ]`, it learns to output a probability for the next token `tₙ₊₁`.\n",
        "\n",
        "\n",
        "Each layer applies a simple operation (matrix multiplication, attention, etc.). Stacking hundreds of these layers lets the model capture patterns and statistical relations from text. The final output is a vector of scores that says, “how likely is each possible token to come next?”\n",
        "\n",
        "> Think of the whole network as **one gigantic equation** whose parameters were tuned during training to minimize prediction error.\n"
      ]
    },
    {
      "cell_type": "markdown",
      "id": "8f0c7399",
      "metadata": {
        "id": "8f0c7399"
      },
      "source": [
        "\n",
        "### 2.1 - A Single `Linear` Layer\n",
        "\n",
        "Before we explore Transformer, let’s start tiny:\n",
        "\n",
        "* A **Linear layer** performs `y = Wx + b`  \n",
        "  * `x` – input vector  \n",
        "  * `W` – weight matrix (learned)  \n",
        "  * `b` – bias vector (learned)\n",
        "\n",
        "Although this looks basic, chaining thousands of such linear transforms (with nonlinearities in between) gives neural nets their expressive power.\n"
      ]
    },
    {
      "cell_type": "code",
      "execution_count": 74,
      "id": "e425948a",
      "metadata": {
        "id": "e425948a"
      },
      "outputs": [],
      "source": [
        "import torch.nn as nn\n",
        "class Linear(nn.Module):\n",
        "    def __init__(self, in_features, out_features):\n",
        "        super(Linear, self).__init__()\n",
        "        linear = nn.Sequential(\n",
        "            nn.Linear(self.in_features, self.out_features)\n",
        "        )\n",
        "\n",
        "    def forward(self, x):\n",
        "        logits = self.linear(x)\n",
        "        return logits"
      ]
    },
    {
      "cell_type": "code",
      "execution_count": 75,
      "id": "13e5e225",
      "metadata": {
        "colab": {
          "base_uri": "https://localhost:8080/"
        },
        "id": "13e5e225",
        "outputId": "32230e7f-0db9-47f6-e011-2a1c3322d82a"
      },
      "outputs": [
        {
          "output_type": "stream",
          "name": "stdout",
          "text": [
            "Input : tensor([ 1.0000, -1.0000,  0.5000])\n",
            "Weights: Parameter containing:\n",
            "tensor([[-0.3828,  0.0512,  0.0521],\n",
            "        [ 0.4919,  0.5533, -0.0638]], requires_grad=True)\n",
            "Bias   : Parameter containing:\n",
            "tensor([ 0.2001, -0.0301], requires_grad=True)\n",
            "Output : tensor([-0.2079, -0.1234], grad_fn=<ViewBackward0>)\n"
          ]
        }
      ],
      "source": [
        "import torch.nn as nn, torch\n",
        "\n",
        "lin = nn.Linear(3, 2)\n",
        "x = torch.tensor([1.0, -1.0, 0.5])\n",
        "print(\"Input :\", x)\n",
        "print(\"Weights:\", lin.weight)\n",
        "print(\"Bias   :\", lin.bias)\n",
        "print(\"Output :\", lin(x))\n"
      ]
    },
    {
      "cell_type": "markdown",
      "id": "a04f56bf",
      "metadata": {
        "id": "a04f56bf"
      },
      "source": [
        "### 2.2 - A `Transformer` Layer\n",
        "\n",
        "Most LLMs are a **stack of identical Transformer blocks**. Each block fuses two main components:\n",
        "\n",
        "| Step | What it does | Where it lives in code |\n",
        "|------|--------------|------------------------|\n",
        "| **Multi-Head Self-Attention** | Every token looks at every other token and decides *what matters*. | `block.attn` |\n",
        "| **Feed-Forward Network (MLP)** | Re-mixes information token-by-token. | `block.mlp` |\n",
        "\n",
        "Below, we load the smallest public GPT-2 (124 M parameters), grab its *first* block, and inspect the pieces.\n"
      ]
    },
    {
      "cell_type": "code",
      "execution_count": 1,
      "id": "47c87f6e",
      "metadata": {
        "colab": {
          "base_uri": "https://localhost:8080/",
          "height": 215,
          "referenced_widgets": [
            "4da23d87424d4bb691e5656138adee65",
            "cb6450c9ad914fd1a2e1137ca26be35f",
            "2468acb31fb648cfa0d70cf603bd08ea",
            "313139f30748457196fdad3326751ef1",
            "21558fd184a84e1992016f7c2f579739",
            "283328959e1b4134a00f2a4bea3b255c",
            "32ef94bc64a84d4b9d97826faea0531c",
            "cd32aa62db864c97b99878b4809e2403",
            "1d3d4c9b284c453383f08b4e39e6eb1d",
            "520f98d49dd24a38945def56ad465e12",
            "f05eb5baddf9440b8ee49e21e80dda15",
            "15e77606cc864a5faab9c31433d09ef4",
            "e77e8e412a074d028ef04f4a7af9d212",
            "19cecea44cc2455095ab45599a77e6a8",
            "e8c1d4d1b51e426eb56fc94c4e8dcfad",
            "1e4a025cad72449e88f2bdc753a0ba57",
            "f222508e9a0349bc89b91b8d71f10cb9",
            "44848cbb448842c4a71a85fef8e6773c",
            "630d1d3c2b1a40c9accfcae73dedfabb",
            "3ae9247b3ac8463892c8c2825473d947",
            "9ced6803d8bb4ec39ce16f4db81f3090",
            "91bc84a608be4bec8f044e7d030792b7",
            "493f4b12cf694dfeab8fee55994c48dd",
            "56ac57cb8b0540bea5d2cd3193c104db",
            "4d6dc8f412f34c5b826ff34328d62616",
            "3250da6623924893838400669cd15e24",
            "7310f6cc65a64270b379fa199efec3a3",
            "46977707990d4d27aa8e8d1773a296c7",
            "960fed75176d4fd0b803d65f0533deb6",
            "a46e48eda7ae471499bffe3863d9e994",
            "f29563f146394e9082ae42f6779c6eb8",
            "950c84dc36a54878a37956aaadebdbd7",
            "4adf5c7e9d45428aad35965522d70c46"
          ]
        },
        "id": "47c87f6e",
        "outputId": "31f111c6-4552-45d2-9abd-2d42cb04f527"
      },
      "outputs": [
        {
          "output_type": "stream",
          "name": "stderr",
          "text": [
            "/usr/local/lib/python3.12/dist-packages/huggingface_hub/utils/_auth.py:94: UserWarning: \n",
            "The secret `HF_TOKEN` does not exist in your Colab secrets.\n",
            "To authenticate with the Hugging Face Hub, create a token in your settings tab (https://huggingface.co/settings/tokens), set it as secret in your Google Colab and restart your session.\n",
            "You will be able to reuse this secret in all of your notebooks.\n",
            "Please note that authentication is recommended but still optional to access public models or datasets.\n",
            "  warnings.warn(\n"
          ]
        },
        {
          "output_type": "display_data",
          "data": {
            "text/plain": [
              "config.json:   0%|          | 0.00/665 [00:00<?, ?B/s]"
            ],
            "application/vnd.jupyter.widget-view+json": {
              "version_major": 2,
              "version_minor": 0,
              "model_id": "4da23d87424d4bb691e5656138adee65"
            }
          },
          "metadata": {}
        },
        {
          "output_type": "display_data",
          "data": {
            "text/plain": [
              "model.safetensors:   0%|          | 0.00/548M [00:00<?, ?B/s]"
            ],
            "application/vnd.jupyter.widget-view+json": {
              "version_major": 2,
              "version_minor": 0,
              "model_id": "15e77606cc864a5faab9c31433d09ef4"
            }
          },
          "metadata": {}
        },
        {
          "output_type": "display_data",
          "data": {
            "text/plain": [
              "generation_config.json:   0%|          | 0.00/124 [00:00<?, ?B/s]"
            ],
            "application/vnd.jupyter.widget-view+json": {
              "version_major": 2,
              "version_minor": 0,
              "model_id": "493f4b12cf694dfeab8fee55994c48dd"
            }
          },
          "metadata": {}
        }
      ],
      "source": [
        "import torch\n",
        "from transformers import GPT2LMHeadModel\n",
        "\n",
        "# Load the 124 M-parameter GPT-2 and inspect its layers (12 layers)\n",
        "model = GPT2LMHeadModel.from_pretrained(\"openai-community/gpt2\")"
      ]
    },
    {
      "cell_type": "code",
      "source": [
        "model"
      ],
      "metadata": {
        "colab": {
          "base_uri": "https://localhost:8080/"
        },
        "id": "1WLD_KRr90oI",
        "outputId": "579fa617-b9ed-4236-f954-877774f5cfed"
      },
      "id": "1WLD_KRr90oI",
      "execution_count": 30,
      "outputs": [
        {
          "output_type": "execute_result",
          "data": {
            "text/plain": [
              "GPT2LMHeadModel(\n",
              "  (transformer): GPT2Model(\n",
              "    (wte): Embedding(50257, 768)\n",
              "    (wpe): Embedding(1024, 768)\n",
              "    (drop): Dropout(p=0.1, inplace=False)\n",
              "    (h): ModuleList(\n",
              "      (0-11): 12 x GPT2Block(\n",
              "        (ln_1): LayerNorm((768,), eps=1e-05, elementwise_affine=True)\n",
              "        (attn): GPT2Attention(\n",
              "          (c_attn): Conv1D(nf=2304, nx=768)\n",
              "          (c_proj): Conv1D(nf=768, nx=768)\n",
              "          (attn_dropout): Dropout(p=0.1, inplace=False)\n",
              "          (resid_dropout): Dropout(p=0.1, inplace=False)\n",
              "        )\n",
              "        (ln_2): LayerNorm((768,), eps=1e-05, elementwise_affine=True)\n",
              "        (mlp): GPT2MLP(\n",
              "          (c_fc): Conv1D(nf=3072, nx=768)\n",
              "          (c_proj): Conv1D(nf=768, nx=3072)\n",
              "          (act): NewGELUActivation()\n",
              "          (dropout): Dropout(p=0.1, inplace=False)\n",
              "        )\n",
              "      )\n",
              "    )\n",
              "    (ln_f): LayerNorm((768,), eps=1e-05, elementwise_affine=True)\n",
              "  )\n",
              "  (lm_head): Linear(in_features=768, out_features=50257, bias=False)\n",
              ")"
            ]
          },
          "metadata": {},
          "execution_count": 30
        }
      ]
    },
    {
      "cell_type": "code",
      "execution_count": 13,
      "id": "92df06df",
      "metadata": {
        "colab": {
          "base_uri": "https://localhost:8080/"
        },
        "id": "92df06df",
        "outputId": "da0b60ac-c97f-4640-b054-6c004bffd780"
      },
      "outputs": [
        {
          "output_type": "stream",
          "name": "stdout",
          "text": [
            "\n",
            "Output shape : torch.Size([1, 8, 768])\n"
          ]
        }
      ],
      "source": [
        "# Run a tiny forward pass through the first block\n",
        "seq_len = 8\n",
        "dummy_tokens = torch.randint(0, model.config.vocab_size, (1, seq_len))\n",
        "with torch.no_grad():\n",
        "    # Embed tokens + positions the same way GPT-2 does\n",
        "    # Forward through one layer\n",
        "    embedding_output = model.transformer.wte(dummy_tokens) + model.transformer.wpe(torch.arange(dummy_tokens.size(1)).unsqueeze(0))\n",
        "    layer_0 = model.transformer.h[0]\n",
        "    out = layer_0(embedding_output)[0]\n",
        "\n",
        "print(\"\\nOutput shape :\", out.shape) # (batch, seq_len, hidden_size)"
      ]
    },
    {
      "cell_type": "markdown",
      "id": "8493ecc8",
      "metadata": {
        "id": "8493ecc8"
      },
      "source": [
        "### 2.3 - Inside GPT-2\n",
        "\n",
        "GPT-2 is just many of those modules arranged in a repeating *block*. Let's print the modules inside the Transformer."
      ]
    },
    {
      "cell_type": "code",
      "execution_count": 18,
      "id": "a78ddee1",
      "metadata": {
        "colab": {
          "base_uri": "https://localhost:8080/"
        },
        "id": "a78ddee1",
        "outputId": "983a1acf-f094-4834-d368-fe80487e855f"
      },
      "outputs": [
        {
          "output_type": "stream",
          "name": "stdout",
          "text": [
            "GPT2Config {\n",
            "  \"activation_function\": \"gelu_new\",\n",
            "  \"attn_pdrop\": 0.1,\n",
            "  \"bos_token_id\": 50256,\n",
            "  \"embd_pdrop\": 0.1,\n",
            "  \"eos_token_id\": 50256,\n",
            "  \"initializer_range\": 0.02,\n",
            "  \"layer_norm_epsilon\": 1e-05,\n",
            "  \"model_type\": \"gpt2\",\n",
            "  \"n_embd\": 768,\n",
            "  \"n_head\": 12,\n",
            "  \"n_inner\": null,\n",
            "  \"n_layer\": 12,\n",
            "  \"n_positions\": 1024,\n",
            "  \"reorder_and_upcast_attn\": false,\n",
            "  \"resid_pdrop\": 0.1,\n",
            "  \"scale_attn_by_inverse_layer_idx\": false,\n",
            "  \"scale_attn_weights\": true,\n",
            "  \"summary_activation\": null,\n",
            "  \"summary_first_dropout\": 0.1,\n",
            "  \"summary_proj_to_labels\": true,\n",
            "  \"summary_type\": \"cls_index\",\n",
            "  \"summary_use_proj\": true,\n",
            "  \"transformers_version\": \"4.57.0\",\n",
            "  \"use_cache\": true,\n",
            "  \"vocab_size\": 50257\n",
            "}\n",
            "\n"
          ]
        },
        {
          "output_type": "execute_result",
          "data": {
            "text/plain": [
              "GPT2LMHeadModel(\n",
              "  (transformer): GPT2Model(\n",
              "    (wte): Embedding(50257, 768)\n",
              "    (wpe): Embedding(1024, 768)\n",
              "    (drop): Dropout(p=0.1, inplace=False)\n",
              "    (h): ModuleList(\n",
              "      (0-11): 12 x GPT2Block(\n",
              "        (ln_1): LayerNorm((768,), eps=1e-05, elementwise_affine=True)\n",
              "        (attn): GPT2Attention(\n",
              "          (c_attn): Conv1D(nf=2304, nx=768)\n",
              "          (c_proj): Conv1D(nf=768, nx=768)\n",
              "          (attn_dropout): Dropout(p=0.1, inplace=False)\n",
              "          (resid_dropout): Dropout(p=0.1, inplace=False)\n",
              "        )\n",
              "        (ln_2): LayerNorm((768,), eps=1e-05, elementwise_affine=True)\n",
              "        (mlp): GPT2MLP(\n",
              "          (c_fc): Conv1D(nf=3072, nx=768)\n",
              "          (c_proj): Conv1D(nf=768, nx=3072)\n",
              "          (act): NewGELUActivation()\n",
              "          (dropout): Dropout(p=0.1, inplace=False)\n",
              "        )\n",
              "      )\n",
              "    )\n",
              "    (ln_f): LayerNorm((768,), eps=1e-05, elementwise_affine=True)\n",
              "  )\n",
              "  (lm_head): Linear(in_features=768, out_features=50257, bias=False)\n",
              ")"
            ]
          },
          "metadata": {},
          "execution_count": 18
        }
      ],
      "source": [
        "# Print the name and modules inside gpt2\n",
        "from transformers import GPT2Config, GPT2Model\n",
        "\n",
        "configuration = GPT2Config()\n",
        "print(configuration)\n",
        "\n",
        "model"
      ]
    },
    {
      "cell_type": "markdown",
      "id": "ed029847",
      "metadata": {
        "id": "ed029847"
      },
      "source": [
        "As you can see, the Transformer holds various modules, arranged from a list of blocks (`h`). The following table summarizes these modules:\n",
        "\n",
        "| Step | What it does | Why it matters |\n",
        "|------|--------------|----------------|\n",
        "| **Token → Embedding** | Converts IDs to vectors | Gives the model a numeric “handle” on words |\n",
        "| **Positional Encoding** | Adds “where am I?” info | Order matters in language |\n",
        "| **Multi-Head Self-Attention** | Each token asks “which other tokens should I look at?” | Lets the model relate words across a sentence |\n",
        "| **Feed-Forward Network** | Two stacked Linear layers with a non-linearity | Mixes information and adds depth |\n",
        "| **LayerNorm & Residual** | Stabilize training and help gradients flow | Keeps very deep networks trainable |\n"
      ]
    },
    {
      "cell_type": "markdown",
      "id": "0a6a7495",
      "metadata": {
        "id": "0a6a7495"
      },
      "source": [
        "### 2.4 LLM's output\n",
        "\n",
        "Passing a token sequence through an **LLM** yields a tensor of **logits** with shape  \n",
        "`(batch_size, seq_len, vocab_size)`.  \n",
        "Applying `softmax` on the last dimension turns those logits into probabilities.\n",
        "\n",
        "The cell below feeds an 8-token dummy sequence, prints the logits shape, and shows the five most likely next tokens for the final position.\n"
      ]
    },
    {
      "cell_type": "code",
      "execution_count": 79,
      "id": "f98b7b34",
      "metadata": {
        "colab": {
          "base_uri": "https://localhost:8080/"
        },
        "id": "f98b7b34",
        "outputId": "62d758a1-47bd-47a2-b28a-4d1b27566541"
      },
      "outputs": [
        {
          "output_type": "stream",
          "name": "stdout",
          "text": [
            "{'input_ids': tensor([[15496,   616,  1438]]), 'attention_mask': tensor([[1, 1, 1]])}\n",
            "Logits shape : torch.Size([1, 3, 50257])\n",
            "Next top token: ' is', probability: 0.7773270010948181\n",
            "\n",
            "Top-5 predictions for the next token:\n",
            "Next top token: ' is', probability: 0.7773270010948181\n",
            "Next top token: ',', probability: 0.03734152391552925\n",
            "Next top token: ''s', probability: 0.03316362202167511\n",
            "Next top token: ' was', probability: 0.012698805890977383\n",
            "Next top token: ' and', probability: 0.007567603141069412\n"
          ]
        },
        {
          "output_type": "stream",
          "name": "stderr",
          "text": [
            "/tmp/ipython-input-2443758237.py:21: UserWarning: Implicit dimension choice for softmax has been deprecated. Change the call to include dim=X as an argument.\n",
            "  next_tokens_softmax = F.softmax(next_tokens_logits)\n"
          ]
        }
      ],
      "source": [
        "import torch, torch.nn.functional as F\n",
        "from transformers import GPT2LMHeadModel, GPT2TokenizerFast\n",
        "import numpy as np\n",
        "\n",
        "# Load gpt2 model and tokenizer\n",
        "tokenizer = GPT2TokenizerFast.from_pretrained(\"openai-community/gpt2\")\n",
        "model = GPT2LMHeadModel.from_pretrained(\"openai-community/gpt2\")\n",
        "\n",
        "# Tokenize input text\n",
        "text = \"Hello my name\"\n",
        "inputs = tokenizer(text, return_tensors=\"pt\")\n",
        "print(inputs)\n",
        "\n",
        "# Get logits by passing the ids to the gpt2 model.\n",
        "outputs = model(**inputs, labels=inputs[\"input_ids\"])\n",
        "logits = outputs.logits\n",
        "\n",
        "print(\"Logits shape :\", logits.shape)\n",
        "\n",
        "next_tokens_logits = logits[0][-1]\n",
        "next_tokens_softmax = F.softmax(next_tokens_logits)\n",
        "\n",
        "# Predict next token\n",
        "next_token = next_tokens_logits.argmax()\n",
        "print(f\"Next top token: '{tokenizer.decode(next_token)}', probability: {next_tokens_softmax.max()}\")\n",
        "\n",
        "\n",
        "print(\"\\nTop-5 predictions for the next token:\")\n",
        "vocab_size = model.config.vocab_size\n",
        "for i in range(5):\n",
        "  _, index = torch.kthvalue(next_tokens_logits, vocab_size - i)\n",
        "\n",
        "  print(f\"Next top token: '{tokenizer.decode(index)}', probability: {next_tokens_softmax[index]}\")"
      ]
    },
    {
      "cell_type": "markdown",
      "id": "0eb05c9b",
      "metadata": {
        "id": "0eb05c9b"
      },
      "source": [
        "### 2.5 - Key Takeaway\n",
        "\n",
        "A language model is nothing mystical: it’s a *huge composition* of small, understandable layers trained to predict the next token in a sequence of tokens."
      ]
    },
    {
      "cell_type": "markdown",
      "id": "e0ccf391",
      "metadata": {
        "id": "e0ccf391"
      },
      "source": [
        "# 3 - Generation\n",
        "Once an LLM is trained to predict the probabilities, we can generate text from the model. This process is called decoding or sampling.\n",
        "\n",
        "At each step, the LLM outputs a **probability distribution** over the next token. It is the job of the decoding algorithm to pick the next token, and move on to the next token. There are different decoding algorithms and hyper-parameters to control the generaiton:\n",
        "* **Greedy** → pick the single highest‑probability token each step (safe but repetitive).  \n",
        "* **Top‑k / Nucleus (top‑p)** → sample from a subset of likely tokens (adds variety).\n",
        "* **beam** -> applies beam search to pick tokens\n",
        "* **Temperature** → a *creativity* knob. Higher values flatten the probability distribution."
      ]
    },
    {
      "cell_type": "markdown",
      "id": "ac0c5728",
      "metadata": {
        "id": "ac0c5728"
      },
      "source": [
        "### 3.1 - Greedy decoding"
      ]
    },
    {
      "cell_type": "code",
      "execution_count": null,
      "id": "2f2cb953",
      "metadata": {
        "colab": {
          "base_uri": "https://localhost:8080/",
          "height": 81,
          "referenced_widgets": [
            "f3e583317fce481998f6cdf0a0b466f7",
            "eacfbd54ae1c4e2a9db9ed16304859ef",
            "6f85a8fa462849fead8e094bfd40e926",
            "b8a73a2c4d58469dba113fe81cf07024",
            "87b82e97980f44b8906ae6a1f9229768",
            "feff295d754c4c16a2d32b8980da54ca",
            "460e86015dd3450bb15ad64447785f58",
            "ceaeadbe284b4d9fb712195684e868c5",
            "8b09bcfea52d40dc96e5039588743596",
            "37d5d8e4a311445fb66920721a176978",
            "0d67a28f070148168fa5dd9e89fe9d23",
            "17fc1727af364516bfbd4c42ac8eb763",
            "b26638b3465f46b19756a16721939337",
            "2c1fcdbfa985457dbaf95787da1def24",
            "2a6b43cf92bb4fd491b3b8c1ecda2878",
            "0053de0a720a40a1abab227435cf16fb",
            "39735f7cdf3742d38add965fda466c35",
            "434eae0422974bb2aeb5eb3eb0765f9c",
            "d6329b5aaa8941d2ad6f589ccaad1c39",
            "ca69ecbfcd6b464c90862d5adec49e2c",
            "d8a2696f3a3e4ac89495abd768e08803",
            "fcaf26f820734a7095d9462cf4001742"
          ]
        },
        "id": "2f2cb953",
        "outputId": "dc47e05f-8298-46ac-a7bd-5320daabbc6a"
      },
      "outputs": [
        {
          "output_type": "display_data",
          "data": {
            "text/plain": [
              "config.json:   0%|          | 0.00/662 [00:00<?, ?B/s]"
            ],
            "application/vnd.jupyter.widget-view+json": {
              "version_major": 2,
              "version_minor": 0,
              "model_id": "f3e583317fce481998f6cdf0a0b466f7"
            }
          },
          "metadata": {}
        },
        {
          "output_type": "display_data",
          "data": {
            "text/plain": [
              "model.safetensors:   0%|          | 0.00/3.67G [00:00<?, ?B/s]"
            ],
            "application/vnd.jupyter.widget-view+json": {
              "version_major": 2,
              "version_minor": 0,
              "model_id": "17fc1727af364516bfbd4c42ac8eb763"
            }
          },
          "metadata": {}
        }
      ],
      "source": [
        "from transformers import AutoTokenizer, AutoModelForCausalLM\n",
        "MODELS = {\n",
        "    \"gpt2\": \"gpt2\",\n",
        "    \"qwen\": \"Qwen/Qwen1.5-1.8B-Chat\"\n",
        "}\n",
        "TOKENIZERS = {\n",
        "    \"gpt2\": \"gpt2\",\n",
        "    \"bert-base-uncased\": \"bert-base-uncased\"\n",
        "}\n",
        "tokenizers = {k: AutoTokenizer.from_pretrained(f\"{v}\") for k, v in TOKENIZERS.items()}\n",
        "models = {k: AutoModelForCausalLM.from_pretrained(f\"{v}\") for k, v in MODELS.items()}\n",
        "\n",
        "\n",
        "def generate(model_key, tokenizer_key, prompt, strategy=\"greedy\", max_new_tokens=100, top_k=5):\n",
        "    tok, mdl = tokenizers[tokenizer_key], models[model_key]\n",
        "    # Return the generations based on the provided strategy: greedy, top_k, top_p\n",
        "    inputs = tok(prompt, return_tensors=\"pt\")\n",
        "    outputs = mdl(**inputs, labels=inputs[\"input_ids\"])\n",
        "    logits = outputs.logits\n",
        "\n",
        "    next_tokens_logits = logits[0][-1]\n",
        "    next_tokens_softmax = F.softmax(next_tokens_logits)\n",
        "    if strategy == \"greedy\":\n",
        "      next_token = next_tokens_logits.argmax()\n",
        "      next_word = tok.decode(next_token)\n",
        "      probability = next_tokens_softmax.max()\n",
        "      print()\n",
        "      print(f\"{prompt}{next_word} # probability: {probability}\")\n",
        "\n",
        "    if strategy == \"top-k\":\n",
        "      print('oi')\n",
        ""
      ]
    },
    {
      "cell_type": "code",
      "execution_count": null,
      "id": "dbe777ba",
      "metadata": {
        "id": "dbe777ba"
      },
      "outputs": [],
      "source": [
        "tests = [\"Once upon a time\", \"What is 2+2?\", \"Suggest a party theme.\", \"Eu sou\", \"My name\", \"My cat is is is\", \"My cat is\", \"My cat is a \"]\n",
        "\n",
        "for prompt in tests:\n",
        "  print(\"-----------\")\n",
        "  for model in MODELS.keys():\n",
        "    for tokeniz in TOKENIZERS.keys():\n",
        "      generate(model, tokeniz, prompt, \"greedy\", 80)\n"
      ]
    },
    {
      "cell_type": "markdown",
      "id": "f51d44b2",
      "metadata": {
        "id": "f51d44b2"
      },
      "source": [
        "\n",
        "Naively picking the single best token every time has the following issues in practice:\n",
        "\n",
        "* **Loop**: “The cat is is is…”  \n",
        "* **Miss long-term payoff**: the highest-probability word *now* might paint you into a boring corner later."
      ]
    },
    {
      "cell_type": "markdown",
      "id": "91607661",
      "metadata": {
        "id": "91607661"
      },
      "source": [
        "### 3.2 - Top-k or top-p sampling"
      ]
    },
    {
      "cell_type": "code",
      "execution_count": null,
      "id": "0633d4a3",
      "metadata": {
        "id": "0633d4a3"
      },
      "outputs": [],
      "source": [
        "tests = [\"Once upon a time\", \"What is 2+2?\", \"Suggest a party theme.\", \"Eu sou\", \"My name\"]\n",
        "\n",
        "for prompt in tests:\n",
        "  for model in MODELS.keys():\n",
        "    for tokeniz in TOKENIZERS.keys():\n",
        "      generate(model, tokeniz, prompt, \"top-k\", 80)\n"
      ]
    },
    {
      "cell_type": "markdown",
      "id": "004b4039",
      "metadata": {
        "id": "004b4039"
      },
      "source": [
        "### 3.3 - Try It Yourself\n",
        "\n",
        "1. Scroll to the list called `tests`.\n",
        "2. Swap in your own prompts or tweak the decoding strategy.  \n",
        "3. Re‑run the cell and compare the vibes.\n",
        "\n",
        "> **Tip:** Try the same prompt with `greedy` vs. `top_p` (0.9) and see how the tone changes. Notice especially how small temperature tweaks can soften or sharpen the prose.\n",
        "\n",
        "* `strategy`: `\"greedy\"`, `\"beam\"`, `\"top_k\"`, `\"top_p\"`  \n",
        "* `temperature`: `0.2 – 2.0`  \n",
        "* `k` or `p` thresholds\n",
        "\n"
      ]
    },
    {
      "cell_type": "markdown",
      "id": "6b775b02",
      "metadata": {
        "id": "6b775b02"
      },
      "source": [
        "# 4 - Completion vs. Instruction-tuned LLMs\n",
        "\n",
        "We have seen that we can use GPT2 model to pass an input text and generate a new text. However, this model only continues the provided text. It is not engaging in a dialouge-like conversation and cannot be helpful by answering instructions. On the other hand, **instruction-tuned LLMs** like `Qwen-Chat` go through an extra training stage called **post-training** after the base “completion” model is finished. Because of post-training step, an instruction-tuned LLM will:\n",
        "\n",
        "* **Read the entire prompt as a request,** not just as text to mimic.  \n",
        "* **Stay in dialogue mode**. Answer questions, follow steps, ask clarifying queries.  \n",
        "* **Refuse or safe-complete** when instructions are unsafe or disallowed.  \n",
        "* **Adopt a consistent persona** (e.g., “Assistant”) rather than drifting into story continuation.\n"
      ]
    },
    {
      "cell_type": "markdown",
      "id": "1706dc08",
      "metadata": {
        "id": "1706dc08"
      },
      "source": [
        "### 4.1 - Qwen1.5-8B vs. GPT2\n",
        "\n",
        "In the code below we’ll feed the same prompt to:\n",
        "\n",
        "* **GPT-2 (completion-only)** – it will simply keep writing in the same style.  \n",
        "* **Qwen-Chat (instruction-tuned)** – it will obey the instruction and respond directly.\n",
        "\n",
        "Comparing the two outputs makes the difference easy to see."
      ]
    },
    {
      "cell_type": "code",
      "execution_count": null,
      "id": "57b73e7a",
      "metadata": {
        "id": "57b73e7a"
      },
      "outputs": [],
      "source": [
        "from transformers import AutoTokenizer, AutoModelForCausalLM\n",
        "MODELS = {\n",
        "    \"gpt2\": \"gpt2\",\n",
        "    \"qwen\": \"Qwen/Qwen1.5-1.8B-Chat\"\n",
        "}\n",
        "tokenizers, models = {}, {}\n",
        "# Load models and tokenizers\n",
        "\"\"\"\n",
        "YOUR CODE HERE\n",
        "\"\"\"\n"
      ]
    },
    {
      "cell_type": "markdown",
      "id": "ef49ab1b",
      "metadata": {
        "id": "ef49ab1b"
      },
      "source": [
        "\n",
        "We downloaded two tiny checkpoints: `GPT‑2` (124 M parameters) and `Qwen‑1.5‑Chat` (1.8 B). If the cell took a while, that was mostly network time. Models are stored locally after the first run.\n",
        "\n",
        "Let's now generate text and compare two models.\n"
      ]
    },
    {
      "cell_type": "code",
      "execution_count": null,
      "id": "0c78a508",
      "metadata": {
        "id": "0c78a508"
      },
      "outputs": [],
      "source": [
        "\n",
        "tests=[(\"Once upon a time\",\"greedy\"),(\"What is 2+2?\",\"top_k\"),(\"Suggest a party theme.\",\"top_p\")]\n",
        "for prompt,strategy in tests:\n",
        "    for key in [\"gpt2\",\"qwen\"]:\n",
        "        print(f\"\\n== {key.upper()} | {strategy} ==\")\n",
        "        print(generate(key,prompt,strategy,80))\n"
      ]
    },
    {
      "cell_type": "markdown",
      "id": "8e1c3da1",
      "metadata": {
        "id": "8e1c3da1"
      },
      "source": [
        "# 5. (Optional) A Small LLM Playground"
      ]
    },
    {
      "cell_type": "markdown",
      "id": "313ba974",
      "metadata": {
        "id": "313ba974"
      },
      "source": [
        "### 5.1 ‑ Interactive Playground\n",
        "\n",
        "Enter a prompt, pick a model and decoding strategy, adjust the temperature, and press **Generate** to watch the model respond.\n"
      ]
    },
    {
      "cell_type": "code",
      "execution_count": null,
      "id": "1a67a884",
      "metadata": {
        "id": "1a67a884"
      },
      "outputs": [],
      "source": [
        "import ipywidgets as widgets\n",
        "from IPython.display import display, Markdown\n",
        "\n",
        "# Make sure models and tokenizers are loaded\n",
        "try:\n",
        "    tokenizers\n",
        "    models\n",
        "except NameError:\n",
        "    raise RuntimeError(\"Please run the earlier setup cells that load the models before using the playground.\")\n",
        "\n",
        "def generate_playground(model_key, prompt, strategy=\"greedy\", temperature=1.0, max_new_tokens=100):\n",
        "    # Generation code\n",
        "    \"\"\"\n",
        "    YOUR CODE HERE\n",
        "    \"\"\"\n",
        "\n",
        "# Your code to build boxes, dropdowns, and other elements in the UI using widgets and creating the UI using widgets.vbox and display.\n",
        "# Refer to https://ipywidgets.readthedocs.io/en/stable/\n",
        "\"\"\"\n",
        "YOUR CODE HERE\n",
        "\"\"\"\n"
      ]
    },
    {
      "cell_type": "markdown",
      "id": "cfbccead",
      "metadata": {
        "id": "cfbccead"
      },
      "source": [
        "\n",
        "## 🎉 Congratulations!\n",
        "\n",
        "You’ve just learned, explored, and inspected a real **LLM**. In one project you:\n",
        "* Learned how **tokenization** works in practice\n",
        "* Used `tiktoken` library to load and experiment with most advanced tokenizers.\n",
        "* Explored LLM architecture and inspected GPT2 blocks and layers\n",
        "* Learned decoding strategies and used `top-p` to generate text from GPT2\n",
        "* Loaded a powerful chat model, `Qwen1.5-8B` and generated text\n",
        "* Built an LLM playground\n",
        "\n",
        "\n",
        "👏 **Great job!** Take a moment to celebrate. You now have a working mental model of how LLMs work. The skills you used here power most LLMs you see everywhere.\n"
      ]
    },
    {
      "cell_type": "markdown",
      "id": "30824bd6",
      "metadata": {
        "id": "30824bd6"
      },
      "source": []
    }
  ],
  "metadata": {
    "accelerator": "GPU",
    "colab": {
      "gpuType": "T4",
      "provenance": []
    },
    "kernelspec": {
      "display_name": "llm_playground",
      "language": "python",
      "name": "python3"
    },
    "language_info": {
      "codemirror_mode": {
        "name": "ipython",
        "version": 3
      },
      "file_extension": ".py",
      "mimetype": "text/x-python",
      "name": "python",
      "nbconvert_exporter": "python",
      "pygments_lexer": "ipython3",
      "version": "3.11.12"
    },
  "nbformat": 4,
  "nbformat_minor": 5
}
